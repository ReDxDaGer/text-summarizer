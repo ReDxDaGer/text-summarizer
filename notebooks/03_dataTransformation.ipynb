{
 "cells": [
  {
   "cell_type": "code",
   "execution_count": 1,
   "metadata": {},
   "outputs": [
    {
     "data": {
      "text/plain": [
       "'/home/arch_aditya/Desktop/text-summarizer'"
      ]
     },
     "execution_count": 1,
     "metadata": {},
     "output_type": "execute_result"
    }
   ],
   "source": [
    "import os\n",
    "\n",
    "%pwd\n",
    "os.chdir(\"../\")\n",
    "%pwd"
   ]
  },
  {
   "cell_type": "code",
   "execution_count": 2,
   "metadata": {},
   "outputs": [],
   "source": [
    "from dataclasses import dataclass\n",
    "from pathlib import Path\n",
    "\n",
    "@dataclass(frozen=True)\n",
    "class DataTransformationConfig:\n",
    "    root_dir : Path\n",
    "    data_path : Path\n",
    "    tokenizer_name : Path"
   ]
  },
  {
   "cell_type": "code",
   "execution_count": 3,
   "metadata": {},
   "outputs": [],
   "source": [
    "from textSummarizer.constants import *\n",
    "from textSummarizer.utils.common import read_yaml, create_directories"
   ]
  },
  {
   "cell_type": "code",
   "execution_count": 4,
   "metadata": {},
   "outputs": [],
   "source": [
    "class ConfigurationManager:\n",
    "    def __init__(\n",
    "        self,\n",
    "        config_filepath = CONFIG_FILE_PATH,\n",
    "        params_filepath = PARAMS_FILE_PATH):\n",
    "\n",
    "        self.config = read_yaml(config_filepath)\n",
    "        self.params = read_yaml(params_filepath)\n",
    "\n",
    "        create_directories([self.config.artifacts_root])\n",
    "\n",
    "\n",
    "    \n",
    "    def get_data_transformation_config(self) -> DataTransformationConfig:\n",
    "        config = self.config.data_transformation\n",
    "\n",
    "        create_directories([config.root_dir])\n",
    "\n",
    "        data_transformation_config = DataTransformationConfig(\n",
    "            root_dir=config.root_dir,\n",
    "            data_path=config.data_path,\n",
    "            tokenizer_name = config.tokenizer_name,\n",
    "        )\n",
    "\n",
    "        return data_transformation_config\n"
   ]
  },
  {
   "cell_type": "code",
   "execution_count": 5,
   "metadata": {},
   "outputs": [
    {
     "name": "stderr",
     "output_type": "stream",
     "text": [
      "/home/arch_aditya/Desktop/text-summarizer/TSZ/lib/python3.11/site-packages/tqdm/auto.py:21: TqdmWarning: IProgress not found. Please update jupyter and ipywidgets. See https://ipywidgets.readthedocs.io/en/stable/user_install.html\n",
      "  from .autonotebook import tqdm as notebook_tqdm\n"
     ]
    },
    {
     "name": "stdout",
     "output_type": "stream",
     "text": [
      "[2024-03-21 00:58:41,034 - INFO - config - 58 - PyTorch version 2.2.1 available.]\n"
     ]
    }
   ],
   "source": [
    "import os\n",
    "from transformers import AutoTokenizer\n",
    "from textSummarizer.logging import logger\n",
    "from datasets import load_dataset , load_from_disk\n",
    "\n",
    "class DataTransformation:\n",
    "    def __init__(self, config: DataTransformationConfig):\n",
    "        self.config = config\n",
    "        self.tokenizer = AutoTokenizer.from_pretrained(config.tokenizer_name)\n",
    "\n",
    "\n",
    "    \n",
    "    def convert_examples_to_features(self,example_batch):\n",
    "        input_encodings = self.tokenizer(example_batch['dialogue'] , max_length = 1024, truncation = True )\n",
    "        \n",
    "        with self.tokenizer.as_target_tokenizer():\n",
    "            target_encodings = self.tokenizer(example_batch['summary'], max_length = 128, truncation = True )\n",
    "            \n",
    "        return {\n",
    "            'input_ids' : input_encodings['input_ids'],\n",
    "            'attention_mask': input_encodings['attention_mask'],\n",
    "            'labels': target_encodings['input_ids']\n",
    "        }\n",
    "    \n",
    "\n",
    "    def convert(self):\n",
    "        dataset_samsum = load_from_disk(self.config.data_path)\n",
    "        dataset_samsum_pt = dataset_samsum.map(self.convert_examples_to_features, batched = True)\n",
    "        dataset_samsum_pt.save_to_disk(os.path.join(self.config.root_dir,\"samsum_dataset\"))"
   ]
  },
  {
   "cell_type": "code",
   "execution_count": 6,
   "metadata": {},
   "outputs": [
    {
     "name": "stdout",
     "output_type": "stream",
     "text": [
      "[2024-03-21 00:58:41,316 - INFO - common - 28 - yaml file : config/config.yaml loaded successfully]\n",
      "[2024-03-21 00:58:41,318 - INFO - common - 28 - yaml file : params.yaml loaded successfully]\n",
      "[2024-03-21 00:58:41,320 - INFO - common - 57 - Created directory artifacts]\n",
      "[2024-03-21 00:58:41,321 - INFO - common - 57 - Created directory artifacts/data_transformation]\n",
      "[2024-03-21 00:58:41,326 - DEBUG - connectionpool - 1055 - Starting new HTTPS connection (1): huggingface.co:443]\n",
      "[2024-03-21 00:58:42,254 - DEBUG - connectionpool - 549 - https://huggingface.co:443 \"HEAD /google/pegasus-cnn_dailymail/resolve/main/tokenizer_config.json HTTP/1.1\" 200 0]\n",
      "[2024-03-21 00:58:43,269 - DEBUG - local - 298 - open file: /home/arch_aditya/Desktop/text-summarizer/artifacts/data_ingestion/samsum_dataset/dataset_dict.json]\n"
     ]
    },
    {
     "name": "stderr",
     "output_type": "stream",
     "text": [
      "Map:   0%|          | 0/14732 [00:00<?, ? examples/s]"
     ]
    },
    {
     "name": "stdout",
     "output_type": "stream",
     "text": [
      "[2024-03-21 00:58:43,661 - DEBUG - local - 298 - open file: /home/arch_aditya/Desktop/text-summarizer/artifacts/data_ingestion/samsum_dataset/train/tmplc2z85r3]\n"
     ]
    },
    {
     "name": "stderr",
     "output_type": "stream",
     "text": [
      "/home/arch_aditya/Desktop/text-summarizer/TSZ/lib/python3.11/site-packages/transformers/tokenization_utils_base.py:3892: UserWarning: `as_target_tokenizer` is deprecated and will be removed in v5 of Transformers. You can tokenize your labels by using the argument `text_target` of the regular `__call__` method (either in the same call as your input texts if you use the same keyword arguments, or in a separate call.\n",
      "  warnings.warn(\n",
      "Map: 100%|██████████| 14732/14732 [00:03<00:00, 4349.75 examples/s]\n",
      "Map:   0%|          | 0/819 [00:00<?, ? examples/s]"
     ]
    },
    {
     "name": "stdout",
     "output_type": "stream",
     "text": [
      "[2024-03-21 00:58:46,872 - DEBUG - local - 298 - open file: /home/arch_aditya/Desktop/text-summarizer/artifacts/data_ingestion/samsum_dataset/test/tmpgzao9tdw]\n"
     ]
    },
    {
     "name": "stderr",
     "output_type": "stream",
     "text": [
      "Map: 100%|██████████| 819/819 [00:00<00:00, 4542.01 examples/s]\n",
      "Map:   0%|          | 0/818 [00:00<?, ? examples/s]"
     ]
    },
    {
     "name": "stdout",
     "output_type": "stream",
     "text": [
      "[2024-03-21 00:58:47,137 - DEBUG - local - 298 - open file: /home/arch_aditya/Desktop/text-summarizer/artifacts/data_ingestion/samsum_dataset/validation/tmp042dpelk]\n"
     ]
    },
    {
     "name": "stderr",
     "output_type": "stream",
     "text": [
      "Map: 100%|██████████| 818/818 [00:00<00:00, 3724.10 examples/s]"
     ]
    },
    {
     "name": "stdout",
     "output_type": "stream",
     "text": [
      "[2024-03-21 00:58:47,209 - DEBUG - local - 298 - open file: /home/arch_aditya/Desktop/text-summarizer/artifacts/data_transformation/samsum_dataset/dataset_dict.json]\n"
     ]
    },
    {
     "name": "stderr",
     "output_type": "stream",
     "text": [
      "\n",
      "Saving the dataset (0/1 shards):   0%|          | 0/14732 [00:00<?, ? examples/s]"
     ]
    },
    {
     "name": "stdout",
     "output_type": "stream",
     "text": [
      "[2024-03-21 00:58:47,232 - DEBUG - local - 298 - open file: /home/arch_aditya/Desktop/text-summarizer/artifacts/data_transformation/samsum_dataset/train/data-00000-of-00001.arrow]\n"
     ]
    },
    {
     "name": "stderr",
     "output_type": "stream",
     "text": [
      "Saving the dataset (1/1 shards): 100%|██████████| 14732/14732 [00:00<00:00, 177136.39 examples/s]"
     ]
    },
    {
     "name": "stdout",
     "output_type": "stream",
     "text": [
      "[2024-03-21 00:58:47,307 - DEBUG - local - 298 - open file: /home/arch_aditya/Desktop/text-summarizer/artifacts/data_transformation/samsum_dataset/train/state.json]\n",
      "[2024-03-21 00:58:47,311 - DEBUG - local - 298 - open file: /home/arch_aditya/Desktop/text-summarizer/artifacts/data_transformation/samsum_dataset/train/dataset_info.json]\n"
     ]
    },
    {
     "name": "stderr",
     "output_type": "stream",
     "text": [
      "\n",
      "Saving the dataset (0/1 shards):   0%|          | 0/819 [00:00<?, ? examples/s]"
     ]
    },
    {
     "name": "stdout",
     "output_type": "stream",
     "text": [
      "[2024-03-21 00:58:47,335 - DEBUG - local - 298 - open file: /home/arch_aditya/Desktop/text-summarizer/artifacts/data_transformation/samsum_dataset/test/data-00000-of-00001.arrow]\n"
     ]
    },
    {
     "name": "stderr",
     "output_type": "stream",
     "text": [
      "Saving the dataset (1/1 shards): 100%|██████████| 819/819 [00:00<00:00, 62135.03 examples/s]"
     ]
    },
    {
     "name": "stdout",
     "output_type": "stream",
     "text": [
      "[2024-03-21 00:58:47,344 - DEBUG - local - 298 - open file: /home/arch_aditya/Desktop/text-summarizer/artifacts/data_transformation/samsum_dataset/test/state.json]\n",
      "[2024-03-21 00:58:47,346 - DEBUG - local - 298 - open file: /home/arch_aditya/Desktop/text-summarizer/artifacts/data_transformation/samsum_dataset/test/dataset_info.json]\n"
     ]
    },
    {
     "name": "stderr",
     "output_type": "stream",
     "text": [
      "\n",
      "Saving the dataset (0/1 shards):   0%|          | 0/818 [00:00<?, ? examples/s]"
     ]
    },
    {
     "name": "stdout",
     "output_type": "stream",
     "text": [
      "[2024-03-21 00:58:47,354 - DEBUG - local - 298 - open file: /home/arch_aditya/Desktop/text-summarizer/artifacts/data_transformation/samsum_dataset/validation/data-00000-of-00001.arrow]\n"
     ]
    },
    {
     "name": "stderr",
     "output_type": "stream",
     "text": [
      "Saving the dataset (1/1 shards): 100%|██████████| 818/818 [00:00<00:00, 33469.33 examples/s]"
     ]
    },
    {
     "name": "stdout",
     "output_type": "stream",
     "text": [
      "[2024-03-21 00:58:47,378 - DEBUG - local - 298 - open file: /home/arch_aditya/Desktop/text-summarizer/artifacts/data_transformation/samsum_dataset/validation/state.json]\n"
     ]
    },
    {
     "name": "stderr",
     "output_type": "stream",
     "text": [
      "\n"
     ]
    },
    {
     "name": "stdout",
     "output_type": "stream",
     "text": [
      "[2024-03-21 00:58:47,385 - DEBUG - local - 298 - open file: /home/arch_aditya/Desktop/text-summarizer/artifacts/data_transformation/samsum_dataset/validation/dataset_info.json]\n",
      "[2024-03-21 00:58:47,407 - INFO - 500070430 - 6 - data transformation completed successfully]\n"
     ]
    }
   ],
   "source": [
    "try:\n",
    "    config = ConfigurationManager()\n",
    "    data_transformation_config = config.get_data_transformation_config()\n",
    "    data_transformation = DataTransformation(config=data_transformation_config)\n",
    "    data_transformation.convert()\n",
    "    logger.info(f\"data transformation completed successfully\")\n",
    "except Exception as e:\n",
    "    logger.error(e)"
   ]
  },
  {
   "cell_type": "code",
   "execution_count": null,
   "metadata": {},
   "outputs": [],
   "source": []
  }
 ],
 "metadata": {
  "kernelspec": {
   "display_name": "TSZ",
   "language": "python",
   "name": "python3"
  },
  "language_info": {
   "codemirror_mode": {
    "name": "ipython",
    "version": 3
   },
   "file_extension": ".py",
   "mimetype": "text/x-python",
   "name": "python",
   "nbconvert_exporter": "python",
   "pygments_lexer": "ipython3",
   "version": "3.11.5"
  }
 },
 "nbformat": 4,
 "nbformat_minor": 2
}
